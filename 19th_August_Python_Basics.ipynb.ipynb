{
 "cells": [
  {
   "cell_type": "markdown",
   "id": "19527335-9b75-432c-a78a-d800d3672b1c",
   "metadata": {},
   "source": [
    "Python Basics Variable"
   ]
  },
  {
   "cell_type": "markdown",
   "id": "bbd5d964-ae62-4096-89b9-6253d52290a3",
   "metadata": {},
   "source": [
    "1. Declare two variables, `x` and `y`, and assign them integer values. Swap the values of these variables without using anytemporary variable.\n"
   ]
  },
  {
   "cell_type": "code",
   "execution_count": 1,
   "id": "6ae8ab59-9ead-4d36-a0d4-38258bcb5e98",
   "metadata": {},
   "outputs": [
    {
     "name": "stdout",
     "output_type": "stream",
     "text": [
      "Before swapping: \n",
      "Value of x :  5  and y :  7\n",
      "After swapping: \n",
      "Value of x :  7  and y :  5\n"
     ]
    }
   ],
   "source": [
    "x = 5\n",
    "y = 7\n",
    " \n",
    "print (\"Before swapping: \")\n",
    "print(\"Value of x : \", x, \" and y : \", y)\n",
    " \n",
    "# code to swap 'x' and 'y'\n",
    "x, y = y, x\n",
    " \n",
    "print (\"After swapping: \")\n",
    "print(\"Value of x : \", x, \" and y : \", y)"
   ]
  },
  {
   "cell_type": "markdown",
   "id": "d6104245-5551-4a4e-a107-3145badc4c67",
   "metadata": {},
   "source": [
    "2. Create a program that calculates the area of a rectangle. Take the length andwidth as inputs from the user and store them in variables.\n",
    "Calculate and display the area."
   ]
  },
  {
   "cell_type": "raw",
   "id": "2069f266-90c6-47b1-808b-3770ce8a10ea",
   "metadata": {},
   "source": [
    "leng = int(input(\"Entr length =\"))\n",
    "width = int(input(\"Enter width =\"))\n",
    "area_of_rac = leng*width\n",
    "print(\"area of a rectangle =\",area_of_rac)"
   ]
  },
  {
   "cell_type": "markdown",
   "id": "d1f28da0-cb5b-4e0e-8b6b-e7a5d860ffc8",
   "metadata": {},
   "source": [
    "3. Write a Python program that converts temperatures from Celsius toFahrenheit. Take the temperature in Celsius as input, store it in a variable,\n",
    "convert it to Fahrenheit, and display the result."
   ]
  },
  {
   "cell_type": "code",
   "execution_count": 13,
   "id": "2787a226-8417-4493-bf10-7d74c35652cd",
   "metadata": {},
   "outputs": [
    {
     "name": "stdin",
     "output_type": "stream",
     "text": [
      "Enter temperatures in Celsius : 5\n"
     ]
    },
    {
     "name": "stdout",
     "output_type": "stream",
     "text": [
      "Celsius in Fahrenheit is : 41.0\n"
     ]
    }
   ],
   "source": [
    "#converts temperatures from Celsius to Fahrenheit\n",
    "cel = int(input(\"Enter temperatures in Celsius :\"))\n",
    "fahr = cel*(9/5)+32\n",
    "print(\"Celsius in Fahrenheit is :\",fahr)"
   ]
  },
  {
   "cell_type": "markdown",
   "id": "68768395-4cf1-4f70-aab2-25f3baaeee7f",
   "metadata": {},
   "source": [
    "String Based Questions"
   ]
  },
  {
   "cell_type": "markdown",
   "id": "84945bfd-2d76-43a1-ba34-7e2b0f934515",
   "metadata": {},
   "source": [
    "1. Write a Python program that takes a string as input and prints the length of the string."
   ]
  },
  {
   "cell_type": "code",
   "execution_count": 9,
   "id": "535fecbc-0e48-4216-82d3-e20f202f93f0",
   "metadata": {},
   "outputs": [
    {
     "name": "stdin",
     "output_type": "stream",
     "text": [
      "Enetr any string value shashi\n"
     ]
    },
    {
     "name": "stdout",
     "output_type": "stream",
     "text": [
      "String value is shashi and length of the string: 6\n"
     ]
    }
   ],
   "source": [
    "char = input(\"Enetr any string value\")\n",
    "\n",
    "print(\"String value is\", char, \"and length of the string:\", len(char))"
   ]
  },
  {
   "cell_type": "markdown",
   "id": "9b750538-b2cc-4de5-96b9-3adf591ce26f",
   "metadata": {},
   "source": [
    "2. Create a program that takes a sentence from the user and counts the number of vowels (a, e, i, o, u) in the string."
   ]
  },
  {
   "cell_type": "code",
   "execution_count": 34,
   "id": "f8ae31ca-e2d0-434b-b27d-a8d7fd5e1abf",
   "metadata": {},
   "outputs": [
    {
     "name": "stdin",
     "output_type": "stream",
     "text": [
      "Write a sentence  sfgiU3RYalsj\n"
     ]
    },
    {
     "name": "stdout",
     "output_type": "stream",
     "text": [
      "number of vowels: 3\n"
     ]
    }
   ],
   "source": [
    "text = input(\"Write a sentence \")\n",
    "vowels = \"aeiouAEIOU\"\n",
    "\n",
    "#counting numberof vowels\n",
    "count = sum(text.count(vowel) for vowel in vowels)\n",
    "print(\"number of vowels:\", count)"
   ]
  },
  {
   "cell_type": "markdown",
   "id": "ab00cb83-b0fa-4c53-8bf1-ded759381022",
   "metadata": {},
   "source": [
    "4. Write a program that takes a string as input and checks if it is a palindrome\n",
    "(reads the same forwards and backwards)."
   ]
  },
  {
   "cell_type": "code",
   "execution_count": 54,
   "id": "ea66441f-eec4-4a79-b6c8-969362d318b1",
   "metadata": {},
   "outputs": [
    {
     "name": "stdin",
     "output_type": "stream",
     "text": [
      "Enetr String:  ddsjweuf8rf\n"
     ]
    },
    {
     "name": "stdout",
     "output_type": "stream",
     "text": [
      "Reversed string :  fr8fuewjsdd\n",
      "The string is not a palindrome.\n"
     ]
    }
   ],
   "source": [
    "text = input(\"Enetr String: \")\n",
    " \n",
    "#Declare an empty string variable   \n",
    "revstr = \"\"\n",
    " \n",
    "#Iterate string with for loop \n",
    "for i in text:\n",
    "    revstr = i + revstr\n",
    "    \n",
    "print(\"Reversed string : \", revstr) \n",
    " \n",
    "if(text == revstr): \n",
    "    print(\"The string is a palindrome.\") \n",
    "else: \n",
    "    print(\"The string is not a palindrome.\") "
   ]
  },
  {
   "cell_type": "markdown",
   "id": "b9042e7f-57e4-46d6-af84-b9fb8657ec0e",
   "metadata": {},
   "source": [
    "5. Create a program that takes a string as input and removes all the spaces from\n",
    "it. Print the modified string without spaces."
   ]
  },
  {
   "cell_type": "code",
   "execution_count": 56,
   "id": "df48ce29-b132-4451-8d01-60a9d08e91eb",
   "metadata": {},
   "outputs": [
    {
     "name": "stdin",
     "output_type": "stream",
     "text": [
      "Enetr String: shashi kumar shrma\n"
     ]
    },
    {
     "data": {
      "text/plain": [
       "'shashikumarshrma'"
      ]
     },
     "execution_count": 56,
     "metadata": {},
     "output_type": "execute_result"
    }
   ],
   "source": [
    "#enter string value\n",
    "text = input(\"Enetr String:\")\n",
    "\n",
    "#removing all spaces\n",
    "text.replace(\" \", \"\")\n"
   ]
  },
  {
   "cell_type": "code",
   "execution_count": null,
   "id": "3d26f2bd-b7cc-4b22-bebe-b819d1808064",
   "metadata": {},
   "outputs": [],
   "source": []
  }
 ],
 "metadata": {
  "kernelspec": {
   "display_name": "Python 3 (ipykernel)",
   "language": "python",
   "name": "python3"
  },
  "language_info": {
   "codemirror_mode": {
    "name": "ipython",
    "version": 3
   },
   "file_extension": ".py",
   "mimetype": "text/x-python",
   "name": "python",
   "nbconvert_exporter": "python",
   "pygments_lexer": "ipython3",
   "version": "3.10.8"
  }
 },
 "nbformat": 4,
 "nbformat_minor": 5
}
